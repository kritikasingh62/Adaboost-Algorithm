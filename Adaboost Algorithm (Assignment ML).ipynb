{
 "cells": [
  {
   "cell_type": "markdown",
   "metadata": {},
   "source": [
    "Implement Adaboost algorithm on any random dataset without using library functions"
   ]
  },
  {
   "cell_type": "code",
   "execution_count": 114,
   "metadata": {},
   "outputs": [],
   "source": [
    "import numpy as np\n",
    "from sklearn import datasets\n",
    "from sklearn.model_selection import train_test_split"
   ]
  },
  {
   "cell_type": "code",
   "execution_count": 115,
   "metadata": {},
   "outputs": [],
   "source": [
    "class DecStmp:\n",
    "    def __init__(self):\n",
    "        self.polarity = 1\n",
    "        self.feature_idx = None\n",
    "        self.threshold = None\n",
    "        self.alpha = None\n",
    "    \n",
    "    def predict(self, x) : \n",
    "        n_samples = x.shape[0]\n",
    "        x_column = x[: , self.feature_idx]\n",
    "        predictions = np.ones(n_samples)\n",
    "        if self.polarity == 1 : \n",
    "            predictions[x_column <  self.threshold] = -1\n",
    "        else:\n",
    "            predictions[x_column > self.threshold] = -1\n",
    "        return predictions"
   ]
  },
  {
   "cell_type": "code",
   "execution_count": 250,
   "metadata": {},
   "outputs": [],
   "source": [
    "class Adaboost : \n",
    "    def __init__(self, n_clf = 5):\n",
    "        self.n_clf = n_clf\n",
    "    \n",
    "    def fit(self, x, y):\n",
    "        n_samples, n_features = x.shape[0], x.shape[1]\n",
    "        w = np.full(n_samples, (1/n_samples))\n",
    "        self.clfs = []\n",
    "        for _ in range(self.n_clf):\n",
    "            clf = DecStmp()\n",
    "            min_error = float(\"inf\")\n",
    "            for feature_i in range(n_features):\n",
    "                x_column = x[:, feature_i]\n",
    "                thresholds = np.unique(x_column)\n",
    "                for threshold in thresholds : \n",
    "                    p = 1\n",
    "                    predictions = np.ones(n_samples)\n",
    "                    predictions[x_column < threshold] = -1\n",
    "                    missclassified = w[y != predictions]\n",
    "                    error = sum(missclassified)\n",
    "                    if error > 0.5 :\n",
    "                        error = 1 - error\n",
    "                        p = -1\n",
    "                    if error < min_error :\n",
    "                        min_error = error\n",
    "                        clf.polarity = p\n",
    "                        clf.threshold = threshold\n",
    "                        clf.feature_idx = feature_i\n",
    "            EPS = 1e-10\n",
    "            clf.alpha = 0.5 * np.log((1- error)/ (error + EPS))\n",
    "            predictions = clf.predict(x)\n",
    "            w = w * np.exp(-clf.alpha * y * predictions)\n",
    "            w = w/np.sum(w)\n",
    "            self.clfs.append(clf)\n",
    "        \n",
    "    def predict(self, x):\n",
    "        clf_preds = [clf.alpha * clf.predict(x) for clf in self.clfs]\n",
    "        y_pred = np.sum(clf_preds, axis = 0)\n",
    "        y_pred = np.sign(y_pred)\n",
    "        return y_pred"
   ]
  },
  {
   "cell_type": "code",
   "execution_count": 251,
   "metadata": {},
   "outputs": [],
   "source": [
    "def accuracy(y_true, y_pred):\n",
    "    acc = np.sum(y_true == y_pred) / len(y_true)\n",
    "    return acc"
   ]
  },
  {
   "cell_type": "code",
   "execution_count": 252,
   "metadata": {},
   "outputs": [],
   "source": [
    "data = datasets.load_wine()\n",
    "x = data.data\n",
    "y = data.target"
   ]
  },
  {
   "cell_type": "code",
   "execution_count": 253,
   "metadata": {},
   "outputs": [],
   "source": [
    "y[y == 0] = -1"
   ]
  },
  {
   "cell_type": "code",
   "execution_count": 254,
   "metadata": {},
   "outputs": [],
   "source": [
    "x_train, x_test, y_train, y_test = train_test_split(x, y, test_size = 0.15, random_state = 11)"
   ]
  },
  {
   "cell_type": "code",
   "execution_count": 255,
   "metadata": {},
   "outputs": [],
   "source": [
    "clf = Adaboost(n_clf = 5)\n",
    "clf.fit(x_train, y_train)\n",
    "y_pred = clf.predict(x_test)"
   ]
  },
  {
   "cell_type": "code",
   "execution_count": 256,
   "metadata": {},
   "outputs": [
    {
     "name": "stdout",
     "output_type": "stream",
     "text": [
      "Accuracy =  0.8518518518518519\n"
     ]
    }
   ],
   "source": [
    "acc = accuracy(y_test, y_pred)\n",
    "print(\"Accuracy = \", acc)"
   ]
  }
 ],
 "metadata": {
  "kernelspec": {
   "display_name": "Python 3",
   "language": "python",
   "name": "python3"
  },
  "language_info": {
   "codemirror_mode": {
    "name": "ipython",
    "version": 3
   },
   "file_extension": ".py",
   "mimetype": "text/x-python",
   "name": "python",
   "nbconvert_exporter": "python",
   "pygments_lexer": "ipython3",
   "version": "3.7.6"
  }
 },
 "nbformat": 4,
 "nbformat_minor": 4
}
